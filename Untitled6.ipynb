{
 "cells": [
  {
   "cell_type": "markdown",
   "metadata": {},
   "source": [
    "# Faces detections and cropping in Open-CV"
   ]
  },
  {
   "cell_type": "code",
   "execution_count": null,
   "metadata": {},
   "outputs": [],
   "source": [
    "import cv2\n",
    "import os\n",
    "import sys\n",
    "import numpy"
   ]
  },
  {
   "cell_type": "code",
   "execution_count": null,
   "metadata": {},
   "outputs": [],
   "source": [
    "image = cv2.imread('C:\\\\Users\\\\sandh\\\\Downloads\\\\group.jpg')\n",
    "gray=cv2.cvtColor(image,cv2.COLOR_BGR2GRAY)\n",
    "faceCascade = cv2.CascadeClassifier(cv2.data.haarcascades + \"haarcascade_frontalface_default.xml\")\n",
    "faces = faceCascade.detectMultiScale(gray,scaleFactor=1.3,minNeighbors=3,minSize=(30, 30))\n",
    "print(\"[INFO] Found {0} Faces.\".format(len(faces)))\n",
    "\n",
    "for (x, y, w, h) in faces:\n",
    "    cv2.rectangle(image, (x, y), (x + w, y + h), (0, 255, 0), 2)\n",
    "    roi_color = image[y:y + h, x:x + w]\n",
    "    print(\"[INFO] Object found. Saving locally.\")\n",
    "    cv2.imwrite(str(w) + str(h) + '_faces.jpg', roi_color)\n",
    "\n",
    "status = cv2.imwrite('faces_detected.jpg', image)\n",
    "print(\"[INFO] Image faces_detected.jpg written to filesystem: \", status)\n",
    "    #faceCrop('testPics/*.jpg',boxScale=1)\n",
    "i=0\n",
    "height, width = image.shape[:2]\n",
    "height,width\n",
    "for (x, y, w, h) in faces:\n",
    "            r = max(w, h) / 2\n",
    "            centerx = x + w / 2\n",
    "            centery = y + h / 2\n",
    "            nx = int(centerx - r)\n",
    "            ny = int(centery - r)\n",
    "            nr = int(r * 2)\n",
    "\n",
    "            faceimg = image[ny:ny+nr, nx:nx+nr]\n",
    "            lastimg = cv2.resize(faceimg, (100, 100))\n",
    "            i += 1\n",
    "            cv2.imwrite(\"image%d.jpg\" % i, lastimg)"
   ]
  }
 ],
 "metadata": {
  "kernelspec": {
   "display_name": "Python 3",
   "language": "python",
   "name": "python3"
  },
  "language_info": {
   "codemirror_mode": {
    "name": "ipython",
    "version": 3
   },
   "file_extension": ".py",
   "mimetype": "text/x-python",
   "name": "python",
   "nbconvert_exporter": "python",
   "pygments_lexer": "ipython3",
   "version": "3.8.1"
  }
 },
 "nbformat": 4,
 "nbformat_minor": 4
}
